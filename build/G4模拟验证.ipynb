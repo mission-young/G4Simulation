{
 "cells": [
  {
   "attachments": {},
   "cell_type": "markdown",
   "metadata": {},
   "source": [
    "## G4模拟验证\n",
    "\n",
    "简化起见，将142um，40um，304um三块49.5\\*49.5 mm的DSSD合并，即用486um\\*49.5\\*49.5mm的长方体灵敏探测器来替代。\n",
    "\n",
    "从142~142+40um 随机发射2MeV能量质子，粒子未能穿出\n",
    "![](https://raw.githubusercontent.com/mission-young/Pic/master//img/20190620165901.png)\n",
    "从142~142+40um 随机发射4MeV能量质子，粒子未能穿出\n",
    "![](https://raw.githubusercontent.com/mission-young/Pic/master//img/20190620170339.png)\n",
    "从142~142+40um 随机发射6MeV能量质子，粒子从一面穿出\n",
    "![](https://raw.githubusercontent.com/mission-young/Pic/master//img/20190620170622.png)\n",
    "绿线所在一面为z轴负方向，从下图中也可以得到佐证。\n",
    "![](https://raw.githubusercontent.com/mission-young/Pic/master//img/20190620170924.png)\n",
    "dz为阻停或穿出所在深度，0为硅的前表面，因而在6MeV时，粒子得以从前表面穿出探测器。\n",
    "\n",
    "从142~142+40um 随机发射8MeV能量质子，粒子从两面穿出\n",
    "![](https://raw.githubusercontent.com/mission-young/Pic/master//img/20190620170512.png)"
   ]
  },
  {
   "attachments": {},
   "cell_type": "markdown",
   "metadata": {},
   "source": []
  },
  {
   "attachments": {},
   "cell_type": "markdown",
   "metadata": {},
   "source": []
  },
  {
   "cell_type": "markdown",
   "metadata": {},
   "source": []
  },
  {
   "cell_type": "markdown",
   "metadata": {},
   "source": []
  }
 ],
 "metadata": {
  "kernelspec": {
   "display_name": "ROOT C++",
   "language": "c++",
   "name": "root"
  },
  "language_info": {
   "codemirror_mode": "text/x-c++src",
   "file_extension": ".C",
   "mimetype": " text/x-c++src",
   "name": "c++"
  }
 },
 "nbformat": 4,
 "nbformat_minor": 2
}
