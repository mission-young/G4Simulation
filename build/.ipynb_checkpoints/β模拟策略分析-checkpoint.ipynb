{
 "cells": [
  {
   "cell_type": "markdown",
   "metadata": {},
   "source": [
    "## Al22整体$\\beta$谱"
   ]
  },
  {
   "cell_type": "markdown",
   "metadata": {},
   "source": [
    "想要知道Al22整体发射的beta能谱，需要知道从Al22衰变到Mg22的所有能级及分支比。\n",
    "![](https://i.loli.net/2019/07/03/5d1c17e4e08f741641.png)"
   ]
  },
  {
   "cell_type": "markdown",
   "metadata": {},
   "source": [
    "[nndc data](https://www.nndc.bnl.gov/ensdf/EnsdfDispatcherServlet)\n",
    "![](https://i.loli.net/2019/07/03/5d1c185a4e7f374013.png)"
   ]
  },
  {
   "cell_type": "markdown",
   "metadata": {},
   "source": [
    "两者相符，以nndc为准。逻辑如下：\n",
    "1. Al22 β+衰变到Mg22，部分能级为质子发射容许态，而部分态为禁戒态。\n",
    "2. 实验获得的质子谱由于有重离子时间、位置关联，而β+穿透能力较强，在DSSD单块沉积能量较小。质子谱在低能部分可能会有部分是纯β谱，但在中高能区由于纯β不会产生那么大的能损，不太可能是纯β谱。\n",
    "3. β+衰变到质子发射态，质子发射仍然是有一定概率。若质子发射，体现为β叠加效应，若质子不发射，则有类似纯β的效应。\n",
    "![](https://i.loli.net/2019/07/03/5d1c23975acaa49013.jpeg)"
   ]
  },
  {
   "cell_type": "markdown",
   "metadata": {},
   "source": [
    "现在值得考虑的问题是，G4事件是以β为主线还是以p为主线。为β为主线，需要考虑βp的效率，以p为主线，则β数与p数一致，不需要考虑效率的问题。经过先前不同Q值下的β能谱可以看出，在当前G4模型设置下，β能集中在500keV以内，能损很小，纯β部分可以忽略。只需考虑β叠加部分即可。因而设定以质子发射为主线，同时发射β+。\n",
    "\n",
    "问题：\n",
    "以IAS为例，β+衰变到IAS态，IAS进一步衰变到下一级。IAS衰变末态有诸多分支，这些分支是否与β+三体衰变机制有依赖关系？即对应的不同衰变分支对应同一个Q值，但对应β能谱是否一致？\n",
    "![](https://i.loli.net/2019/07/03/5d1c250591b4c86565.jpeg)"
   ]
  },
  {
   "cell_type": "markdown",
   "metadata": {},
   "source": [
    "不过由[G4模拟获得β能谱-Si探测器](https://nbviewer.jupyter.org/github/mission-young/G4Simulation/blob/debug/build/G4模拟获得%20beta能谱-Si探测器.ipynb)一节可知，不同Q值对应的β+能谱差异很小，对于不同的质子分支，可以采用一套β+初始能量输入即可。为了验证，也可对不同质子分支找到对应的Q值下的β+能量输入。同时，可以对比IAS同一个Q下不同分支对应的叠加效应。"
   ]
  },
  {
   "cell_type": "code",
   "execution_count": null,
   "metadata": {},
   "outputs": [],
   "source": []
  },
  {
   "cell_type": "code",
   "execution_count": null,
   "metadata": {},
   "outputs": [],
   "source": []
  }
 ],
 "metadata": {
  "kernelspec": {
   "display_name": "ROOT C++",
   "language": "c++",
   "name": "root"
  },
  "language_info": {
   "codemirror_mode": "text/x-c++src",
   "file_extension": ".C",
   "mimetype": " text/x-c++src",
   "name": "c++"
  }
 },
 "nbformat": 4,
 "nbformat_minor": 2
}
